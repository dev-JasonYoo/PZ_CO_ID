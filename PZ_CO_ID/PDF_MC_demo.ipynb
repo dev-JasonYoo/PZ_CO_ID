{
 "cells": [
  {
   "cell_type": "markdown",
   "id": "c53f3c94",
   "metadata": {},
   "source": [
    "# **Demonstration: Generating multiclass redshift probability distribution**\n",
    "# Import libraries"
   ]
  },
  {
   "cell_type": "code",
   "execution_count": 1,
   "id": "b106d84d",
   "metadata": {},
   "outputs": [],
   "source": [
    "from pathlib import Path\n",
    "from json import load\n",
    "from PDF_MC import PDF_MC "
   ]
  },
  {
   "cell_type": "markdown",
   "id": "06b671fd",
   "metadata": {},
   "source": [
    "# Import default configurations\n",
    "\n",
    "model_config.json has default hyperparameters for the PDF_MC model: \n",
    "* number of input features\n",
    "* nubmer of hidden neurons for each layer\n",
    "* nubmer of hidden layers\n",
    "* nubmer of training epochs\n",
    "* learning rate\n",
    "* batch size\n",
    "* momentum"
   ]
  },
  {
   "cell_type": "code",
   "execution_count": 2,
   "id": "4005220d",
   "metadata": {},
   "outputs": [
    {
     "data": {
      "text/plain": [
       "{'num_input_features': 5,\n",
       " 'num_hidden_neurons': 128,\n",
       " 'num_hidden_layers': 5,\n",
       " 'num_epochs': 300,\n",
       " 'learning_rate': 0.001,\n",
       " 'size_batch': 32,\n",
       " 'momentum': 0.9}"
      ]
     },
     "execution_count": 2,
     "metadata": {},
     "output_type": "execute_result"
    }
   ],
   "source": [
    "PACKAGE_PATH = Path.cwd()\n",
    "with open(\"./model_config.json\", \"r\") as f:\n",
    "    json_dict = load(f)\n",
    "    PDF_MC_config = json_dict[\"model\"][\"PDF_MC\"]\n",
    "PDF_MC_config"
   ]
  },
  {
   "cell_type": "markdown",
   "id": "0496fe4d",
   "metadata": {},
   "source": [
    "# Update the config\n",
    "\n",
    "Input/output paths and training-specific hyperparameters should be updated before traning\n",
    "\n",
    "* Input/output paths\n",
    "    * \"input_csv_path\": the path of the input csv file of photometric redshift\n",
    "    * \"output_pdf_path\"\n",
    "    * \"model_path\": the path of the bese model to be saved\n",
    "\n",
    "* Training-specific hyperparameters\n",
    "    * CO_ratio\n",
    "    * weights: written in the format of [[range...], [weights...]]\n",
    "    * train_ratio: the ratio of a training set -- a value in between 0 and 1\n",
    "    * rebalance: perform rebalancing if set to True\n",
    "    * rebalance_list: a list of ranges and weights to rebalance; written in the same format as weights\n",
    "    * evaluation: perform base-evaluation if set to True\n",
    "    * evaluation_ratio: the ratio of a base evaluation set -- a value in between 0 and 1\n",
    "\n",
    "* Others\n",
    "    * model_no: model number (not a hyperparameter) "
   ]
  },
  {
   "cell_type": "code",
   "execution_count": null,
   "id": "c8d68707",
   "metadata": {},
   "outputs": [],
   "source": [
    "PDF_MC_config.update({\n",
    "    \"input_csv_path\": PACKAGE_PATH / 'data/relz_LR.csv',\n",
    "    \"output_dir_path\": PACKAGE_PATH / 'results/',\n",
    "    \"model_dir_path\": PACKAGE_PATH / 'results/',\n",
    "\n",
    "    # hyperparameters\n",
    "    \"CO_ratio\": 0.25,\n",
    "    \"weights_list\": [[1, 2], [2, 15]],\n",
    "    \"train_ratio\": 0.999,\n",
    "\n",
    "    # rebalance\n",
    "    \"rebalance\": True,\n",
    "    # \"rebalance_list\": [[1,2,3], [0.5, 0.5, 0.5]], # for hsc\n",
    "    \"rebalance_list\": [[2,3,4], [0.5, 0.5, 0.5]], # for relz\n",
    "\n",
    "    # base-evaluation\n",
    "    \"evaluation\": True,\n",
    "    \"evaluation_ratio\": 0.3,\n",
    "    \n",
    "    'model_no': 0\n",
    "})"
   ]
  },
  {
   "cell_type": "markdown",
   "id": "c7ccc859",
   "metadata": {},
   "source": [
    "# Train a model\n",
    "\n",
    "Result of training is printed out and saved in PDF and CSV during the `PDF_MC.save_results()` function call\n",
    "\n",
    "\"model_no\" is incremented by 1 every loop of trianing, which is specified in the file names of a saved model and a result file, which can be found in `PZ_CO_ID/PZ_CO_ID/results`"
   ]
  },
  {
   "cell_type": "code",
   "execution_count": null,
   "id": "98b4e580",
   "metadata": {},
   "outputs": [
    {
     "name": "stdout",
     "output_type": "stream",
     "text": [
      "Epoch [10/300], Loss: 1.663168787956\n",
      "\n",
      "best model\n",
      "Epoch [19/300], Loss: 0.844408035278\n",
      "\n",
      "Epoch [20/300], Loss: 0.856896340847\n",
      "\n",
      "best model\n",
      "Epoch [22/300], Loss: 0.823677659035\n",
      "\n",
      "best model\n",
      "Epoch [23/300], Loss: 0.656186401844\n",
      "\n",
      "Epoch [30/300], Loss: 0.923953235149\n",
      "\n",
      "best model\n",
      "Epoch [34/300], Loss: 0.557160913944\n",
      "\n",
      "Epoch [40/300], Loss: 1.021317005157\n",
      "\n",
      "Epoch [50/300], Loss: 0.706067442894\n",
      "\n",
      "best model\n",
      "Epoch [54/300], Loss: 0.548342347145\n",
      "\n",
      "best model\n",
      "Epoch [58/300], Loss: 0.481449127197\n",
      "\n",
      "Epoch [60/300], Loss: 0.739801228046\n",
      "\n",
      "best model\n",
      "Epoch [63/300], Loss: 0.436113357544\n",
      "\n",
      "Epoch [70/300], Loss: 0.606230854988\n",
      "\n",
      "Epoch [80/300], Loss: 0.854492783546\n",
      "\n",
      "best model\n",
      "Epoch [88/300], Loss: 0.416743010283\n",
      "\n",
      "Epoch [90/300], Loss: 0.670374095440\n",
      "\n",
      "best model\n",
      "Epoch [99/300], Loss: 0.395379841328\n",
      "\n",
      "Epoch [100/300], Loss: 0.929262161255\n",
      "\n",
      "Epoch [110/300], Loss: 0.848576188087\n",
      "\n",
      "Epoch [120/300], Loss: 0.494164466858\n",
      "\n",
      "best model\n",
      "Epoch [129/300], Loss: 0.301378130913\n",
      "\n",
      "Epoch [130/300], Loss: 0.800472795963\n",
      "\n",
      "Epoch [140/300], Loss: 1.293166279793\n",
      "\n",
      "Epoch [150/300], Loss: 0.560170948505\n",
      "\n",
      "Epoch [160/300], Loss: 0.637861192226\n",
      "\n",
      "Epoch [170/300], Loss: 0.832049548626\n",
      "\n",
      "Epoch [180/300], Loss: 0.464949995279\n",
      "\n",
      "Epoch [190/300], Loss: 0.537343740463\n",
      "\n",
      "Epoch [200/300], Loss: 1.328579068184\n",
      "\n",
      "Epoch [210/300], Loss: 0.693635582924\n",
      "\n",
      "Epoch [220/300], Loss: 0.508351624012\n",
      "\n",
      "Epoch [230/300], Loss: 0.792417764664\n",
      "\n",
      "Epoch [240/300], Loss: 0.544467389584\n",
      "\n",
      "Epoch [250/300], Loss: 1.336476206779\n",
      "\n",
      "Epoch [260/300], Loss: 0.809308230877\n",
      "\n",
      "Epoch [270/300], Loss: 0.790129721165\n",
      "\n"
     ]
    }
   ],
   "source": [
    "for i in range(1): # change the number to train models for multiple times\n",
    "    PDF_MC_config['model_no'] += 1\n",
    "\n",
    "    PDF_MC_model = PDF_MC(**PDF_MC_config)\n",
    "    \n",
    "    data = PDF_MC_model.preprocess_data()\n",
    "    dl = PDF_MC_model.build_dl(data)\n",
    "    best_model = PDF_MC_model.train_model(dl)\n",
    "    results = PDF_MC_model.evaluate_model(data, dl)\n",
    "    PDF_MC_model.save_results(data, results)"
   ]
  },
  {
   "cell_type": "code",
   "execution_count": null,
   "id": "a923ff8c",
   "metadata": {},
   "outputs": [],
   "source": []
  }
 ],
 "metadata": {
  "kernelspec": {
   "display_name": "Python 3",
   "language": "python",
   "name": "python3"
  },
  "language_info": {
   "codemirror_mode": {
    "name": "ipython",
    "version": 3
   },
   "file_extension": ".py",
   "mimetype": "text/x-python",
   "name": "python",
   "nbconvert_exporter": "python",
   "pygments_lexer": "ipython3",
   "version": "3.13.1"
  }
 },
 "nbformat": 4,
 "nbformat_minor": 5
}
