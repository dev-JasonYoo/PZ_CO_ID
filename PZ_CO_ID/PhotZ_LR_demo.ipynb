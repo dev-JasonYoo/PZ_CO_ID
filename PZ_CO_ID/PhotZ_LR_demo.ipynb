{
 "cells": [
  {
   "cell_type": "markdown",
   "id": "e448e6fa",
   "metadata": {},
   "source": [
    "# **Demonstration: Generating photometric redshift estimations**\n",
    "# Import libraries"
   ]
  },
  {
   "cell_type": "code",
   "execution_count": 1,
   "id": "c96ae25b",
   "metadata": {},
   "outputs": [],
   "source": [
    "from pathlib import Path\n",
    "from json import load\n",
    "from PhotZ_LR import PhotZ_LR"
   ]
  },
  {
   "cell_type": "markdown",
   "id": "c62662bf",
   "metadata": {},
   "source": [
    "# Import default configurations\n",
    "\n",
    "model_config.json has default hyperparameters for the PhotZ_LR model: \n",
    "* number of input features\n",
    "* nubmer of hidden neurons for each layer\n",
    "* nubmer of hidden layers\n",
    "* nubmer of training epochs\n",
    "* learning rate\n",
    "* batch size\n",
    "* momentum"
   ]
  },
  {
   "cell_type": "code",
   "execution_count": 2,
   "id": "94e1b76a",
   "metadata": {},
   "outputs": [
    {
     "data": {
      "text/plain": [
       "{'num_input_features': 5,\n",
       " 'num_hidden_neurons': 128,\n",
       " 'num_hidden_layers': 5,\n",
       " 'num_epochs': 300,\n",
       " 'learning_rate': 0.001,\n",
       " 'size_batch': 32,\n",
       " 'momentum': 0.9}"
      ]
     },
     "execution_count": 2,
     "metadata": {},
     "output_type": "execute_result"
    }
   ],
   "source": [
    "PACKAGE_PATH = Path.cwd()\n",
    "with open(\"./model_config.json\", \"r\") as f:\n",
    "    json_dict = load(f)\n",
    "    PhotZ_LR_config = json_dict[\"model\"][\"PhotZ_LR\"]\n",
    "PhotZ_LR_config"
   ]
  },
  {
   "cell_type": "markdown",
   "id": "519a0b8e",
   "metadata": {},
   "source": [
    "# Update the config\n",
    "\n",
    "Input/output paths and training-specific hyperparameters should be updated before traning\n",
    "\n",
    "* Input/output paths\n",
    "    * \"input_csv_path\": the path of the input csv file of photometric redshift\n",
    "    * \"output_pdf_path\"\n",
    "    * \"model_path\": the path of the bese model to be saved\n",
    "\n",
    "* Training-specific hyperparameters\n",
    "    * CO_ratio\n",
    "    * weights: written in the format of [[range...], [weights...]]\n",
    "    * train_ratio: the ratio of a training set -- a value in between 0 and 1\n",
    "    * rebalance: perform rebalancing if set to True\n",
    "    * rebalance_list: a list of ranges and weights to rebalance; written in the same format as weights\n",
    "    * evaluation: perform base-evaluation if set to True\n",
    "    * evaluation_ratio: the ratio of a base evaluation set -- a value in between 0 and 1\n",
    "\n",
    "* Others\n",
    "    * model_no: model number (not a hyperparameter) "
   ]
  },
  {
   "cell_type": "code",
   "execution_count": null,
   "id": "c422ac08",
   "metadata": {},
   "outputs": [],
   "source": [
    "PhotZ_LR_config.update({\n",
    "    \"input_csv_path\": PACKAGE_PATH / 'data/relz.csv',\n",
    "    \"model_path\": PACKAGE_PATH / 'results/',\n",
    "    \"output_csv_path\": PACKAGE_PATH / 'results/',\n",
    "\n",
    "    # hyperparameters\n",
    "    \"train_ratio\": 0.999,\n",
    "    \"evaluation\": True,\n",
    "    \"evaluation_ratio\": 0.3,\n",
    "\n",
    "    \"model_no\": 0\n",
    "})\n"
   ]
  },
  {
   "cell_type": "markdown",
   "id": "024b2c70",
   "metadata": {},
   "source": [
    "# Train a model\n",
    "\n",
    "Result of training is printed out and saved in PDF and CSV during the `PDF_MC.save_results()` function call\n",
    "\n",
    "\"model_no\" is incremented by 1 every loop of trianing, which is specified in the file names of a saved model and a result file, which can be found in `PZ_CO_ID/PZ_CO_ID/results`"
   ]
  },
  {
   "cell_type": "code",
   "execution_count": 4,
   "id": "35f39c81",
   "metadata": {},
   "outputs": [
    {
     "ename": "FileNotFoundError",
     "evalue": "[Errno 2] No such file or directory: 'd:\\\\data\\\\유상현\\\\data\\\\2024-2025 Summer Research\\\\github\\\\PZ_CO_ID\\\\PZ_CO_ID\\\\result\\\\model_eval\\\\PhotZ_LR_model_relz_1.pth'",
     "output_type": "error",
     "traceback": [
      "\u001b[1;31m---------------------------------------------------------------------------\u001b[0m",
      "\u001b[1;31mUnicodeEncodeError\u001b[0m                        Traceback (most recent call last)",
      "File \u001b[1;32mc:\\Users\\Jason\\AppData\\Local\\Programs\\Python\\Python313\\Lib\\site-packages\\torch\\serialization.py:771\u001b[0m, in \u001b[0;36m_open_zipfile_writer_file.__init__\u001b[1;34m(self, name)\u001b[0m\n\u001b[0;32m    770\u001b[0m \u001b[38;5;28;01mtry\u001b[39;00m:\n\u001b[1;32m--> 771\u001b[0m     \u001b[38;5;28;43mself\u001b[39;49m\u001b[38;5;241;43m.\u001b[39;49m\u001b[43mname\u001b[49m\u001b[38;5;241;43m.\u001b[39;49m\u001b[43mencode\u001b[49m\u001b[43m(\u001b[49m\u001b[38;5;124;43m\"\u001b[39;49m\u001b[38;5;124;43mascii\u001b[39;49m\u001b[38;5;124;43m\"\u001b[39;49m\u001b[43m)\u001b[49m\n\u001b[0;32m    772\u001b[0m \u001b[38;5;28;01mexcept\u001b[39;00m \u001b[38;5;167;01mUnicodeEncodeError\u001b[39;00m:\n\u001b[0;32m    773\u001b[0m     \u001b[38;5;66;03m# PyTorchFileWriter only supports ascii filename.\u001b[39;00m\n\u001b[0;32m    774\u001b[0m     \u001b[38;5;66;03m# For filenames with non-ascii characters, we rely on Python\u001b[39;00m\n\u001b[0;32m    775\u001b[0m     \u001b[38;5;66;03m# for writing out the file.\u001b[39;00m\n",
      "\u001b[1;31mUnicodeEncodeError\u001b[0m: 'ascii' codec can't encode characters in position 8-10: ordinal not in range(128)",
      "\nDuring handling of the above exception, another exception occurred:\n",
      "\u001b[1;31mFileNotFoundError\u001b[0m                         Traceback (most recent call last)",
      "Cell \u001b[1;32mIn[4], line 8\u001b[0m\n\u001b[0;32m      6\u001b[0m data \u001b[38;5;241m=\u001b[39m PhotZ_LR_model\u001b[38;5;241m.\u001b[39mpreprocess_data()\n\u001b[0;32m      7\u001b[0m dl \u001b[38;5;241m=\u001b[39m PhotZ_LR_model\u001b[38;5;241m.\u001b[39mbuild_dl(data, PhotZ_LR_config)\n\u001b[1;32m----> 8\u001b[0m best_model \u001b[38;5;241m=\u001b[39m \u001b[43mPhotZ_LR_model\u001b[49m\u001b[38;5;241;43m.\u001b[39;49m\u001b[43mtrain_model\u001b[49m\u001b[43m(\u001b[49m\u001b[43mdl\u001b[49m\u001b[43m,\u001b[49m\u001b[43m \u001b[49m\u001b[43mPhotZ_LR_config\u001b[49m\u001b[43m)\u001b[49m\n\u001b[0;32m      9\u001b[0m results \u001b[38;5;241m=\u001b[39m PhotZ_LR_model\u001b[38;5;241m.\u001b[39mevaluate_model(data, dl, PhotZ_LR_config)\n\u001b[0;32m     10\u001b[0m PhotZ_LR_model\u001b[38;5;241m.\u001b[39msave_results(data, results, PhotZ_LR_config)\n",
      "File \u001b[1;32md:\\data\\유상현\\data\\2024-2025 Summer Research\\github\\PZ_CO_ID\\PZ_CO_ID\\PhotZ_LR.py:189\u001b[0m, in \u001b[0;36mPhotZ_LR.train_model\u001b[1;34m(self, dl, config)\u001b[0m\n\u001b[0;32m    187\u001b[0m   min_loss \u001b[38;5;241m=\u001b[39m loss\u001b[38;5;241m.\u001b[39mitem()\n\u001b[0;32m    188\u001b[0m   best_model \u001b[38;5;241m=\u001b[39m model\u001b[38;5;241m.\u001b[39mstate_dict()\n\u001b[1;32m--> 189\u001b[0m   \u001b[43mtorch\u001b[49m\u001b[38;5;241;43m.\u001b[39;49m\u001b[43msave\u001b[49m\u001b[43m(\u001b[49m\u001b[43mbest_model\u001b[49m\u001b[43m,\u001b[49m\u001b[43m \u001b[49m\u001b[38;5;28;43mself\u001b[39;49m\u001b[38;5;241;43m.\u001b[39;49m\u001b[43mmodel_path\u001b[49m\u001b[43m \u001b[49m\u001b[38;5;241;43m/\u001b[39;49m\u001b[43m \u001b[49m\u001b[38;5;124;43mf\u001b[39;49m\u001b[38;5;124;43m'\u001b[39;49m\u001b[38;5;124;43mPhotZ_LR_model_\u001b[39;49m\u001b[38;5;132;43;01m{\u001b[39;49;00m\u001b[43mconfig\u001b[49m\u001b[43m[\u001b[49m\u001b[38;5;124;43m\"\u001b[39;49m\u001b[38;5;124;43minput_csv_path\u001b[39;49m\u001b[38;5;124;43m\"\u001b[39;49m\u001b[43m]\u001b[49m\u001b[38;5;241;43m.\u001b[39;49m\u001b[43mstem\u001b[49m\u001b[38;5;132;43;01m}\u001b[39;49;00m\u001b[38;5;124;43m_\u001b[39;49m\u001b[38;5;132;43;01m{\u001b[39;49;00m\u001b[43mconfig\u001b[49m\u001b[43m[\u001b[49m\u001b[38;5;124;43m\"\u001b[39;49m\u001b[38;5;124;43mmodel_no\u001b[39;49m\u001b[38;5;124;43m\"\u001b[39;49m\u001b[43m]\u001b[49m\u001b[38;5;132;43;01m}\u001b[39;49;00m\u001b[38;5;124;43m.pth\u001b[39;49m\u001b[38;5;124;43m'\u001b[39;49m\u001b[43m)\u001b[49m\n\u001b[0;32m    190\u001b[0m   \u001b[38;5;28mprint\u001b[39m(\u001b[38;5;124m'\u001b[39m\u001b[38;5;124mbest model\u001b[39m\u001b[38;5;124m'\u001b[39m)\n\u001b[0;32m    192\u001b[0m \u001b[38;5;66;03m# Print\u001b[39;00m\n",
      "File \u001b[1;32mc:\\Users\\Jason\\AppData\\Local\\Programs\\Python\\Python313\\Lib\\site-packages\\torch\\serialization.py:943\u001b[0m, in \u001b[0;36msave\u001b[1;34m(obj, f, pickle_module, pickle_protocol, _use_new_zipfile_serialization, _disable_byteorder_record)\u001b[0m\n\u001b[0;32m    940\u001b[0m _check_save_filelike(f)\n\u001b[0;32m    942\u001b[0m \u001b[38;5;28;01mif\u001b[39;00m _use_new_zipfile_serialization:\n\u001b[1;32m--> 943\u001b[0m     \u001b[38;5;28;01mwith\u001b[39;00m \u001b[43m_open_zipfile_writer\u001b[49m\u001b[43m(\u001b[49m\u001b[43mf\u001b[49m\u001b[43m)\u001b[49m \u001b[38;5;28;01mas\u001b[39;00m opened_zipfile:\n\u001b[0;32m    944\u001b[0m         _save(\n\u001b[0;32m    945\u001b[0m             obj,\n\u001b[0;32m    946\u001b[0m             opened_zipfile,\n\u001b[1;32m   (...)\u001b[0m\n\u001b[0;32m    949\u001b[0m             _disable_byteorder_record,\n\u001b[0;32m    950\u001b[0m         )\n\u001b[0;32m    951\u001b[0m         \u001b[38;5;28;01mreturn\u001b[39;00m\n",
      "File \u001b[1;32mc:\\Users\\Jason\\AppData\\Local\\Programs\\Python\\Python313\\Lib\\site-packages\\torch\\serialization.py:810\u001b[0m, in \u001b[0;36m_open_zipfile_writer\u001b[1;34m(name_or_buffer)\u001b[0m\n\u001b[0;32m    808\u001b[0m \u001b[38;5;28;01melse\u001b[39;00m:\n\u001b[0;32m    809\u001b[0m     container \u001b[38;5;241m=\u001b[39m _open_zipfile_writer_buffer\n\u001b[1;32m--> 810\u001b[0m \u001b[38;5;28;01mreturn\u001b[39;00m \u001b[43mcontainer\u001b[49m\u001b[43m(\u001b[49m\u001b[43mname_or_buffer\u001b[49m\u001b[43m)\u001b[49m\n",
      "File \u001b[1;32mc:\\Users\\Jason\\AppData\\Local\\Programs\\Python\\Python313\\Lib\\site-packages\\torch\\serialization.py:776\u001b[0m, in \u001b[0;36m_open_zipfile_writer_file.__init__\u001b[1;34m(self, name)\u001b[0m\n\u001b[0;32m    771\u001b[0m     \u001b[38;5;28mself\u001b[39m\u001b[38;5;241m.\u001b[39mname\u001b[38;5;241m.\u001b[39mencode(\u001b[38;5;124m\"\u001b[39m\u001b[38;5;124mascii\u001b[39m\u001b[38;5;124m\"\u001b[39m)\n\u001b[0;32m    772\u001b[0m \u001b[38;5;28;01mexcept\u001b[39;00m \u001b[38;5;167;01mUnicodeEncodeError\u001b[39;00m:\n\u001b[0;32m    773\u001b[0m     \u001b[38;5;66;03m# PyTorchFileWriter only supports ascii filename.\u001b[39;00m\n\u001b[0;32m    774\u001b[0m     \u001b[38;5;66;03m# For filenames with non-ascii characters, we rely on Python\u001b[39;00m\n\u001b[0;32m    775\u001b[0m     \u001b[38;5;66;03m# for writing out the file.\u001b[39;00m\n\u001b[1;32m--> 776\u001b[0m     \u001b[38;5;28mself\u001b[39m\u001b[38;5;241m.\u001b[39mfile_stream \u001b[38;5;241m=\u001b[39m \u001b[43mio\u001b[49m\u001b[38;5;241;43m.\u001b[39;49m\u001b[43mFileIO\u001b[49m\u001b[43m(\u001b[49m\u001b[38;5;28;43mself\u001b[39;49m\u001b[38;5;241;43m.\u001b[39;49m\u001b[43mname\u001b[49m\u001b[43m,\u001b[49m\u001b[43m \u001b[49m\u001b[43mmode\u001b[49m\u001b[38;5;241;43m=\u001b[39;49m\u001b[38;5;124;43m\"\u001b[39;49m\u001b[38;5;124;43mw\u001b[39;49m\u001b[38;5;124;43m\"\u001b[39;49m\u001b[43m)\u001b[49m\n\u001b[0;32m    777\u001b[0m     \u001b[38;5;28msuper\u001b[39m()\u001b[38;5;241m.\u001b[39m\u001b[38;5;21m__init__\u001b[39m(\n\u001b[0;32m    778\u001b[0m         torch\u001b[38;5;241m.\u001b[39m_C\u001b[38;5;241m.\u001b[39mPyTorchFileWriter(\u001b[38;5;28mself\u001b[39m\u001b[38;5;241m.\u001b[39mfile_stream, _compute_crc32)\n\u001b[0;32m    779\u001b[0m     )\n\u001b[0;32m    780\u001b[0m \u001b[38;5;28;01melse\u001b[39;00m:\n",
      "\u001b[1;31mFileNotFoundError\u001b[0m: [Errno 2] No such file or directory: 'd:\\\\data\\\\유상현\\\\data\\\\2024-2025 Summer Research\\\\github\\\\PZ_CO_ID\\\\PZ_CO_ID\\\\result\\\\model_eval\\\\PhotZ_LR_model_relz_1.pth'"
     ]
    }
   ],
   "source": [
    "for i in range(1): # change the number to train models for multiple times\n",
    "    PhotZ_LR_config['model_no'] += 1\n",
    "\n",
    "    PhotZ_LR_model = PhotZ_LR(**PhotZ_LR_config)\n",
    "    \n",
    "    data = PhotZ_LR_model.preprocess_data()\n",
    "    dl = PhotZ_LR_model.build_dl(data, PhotZ_LR_config)\n",
    "    best_model = PhotZ_LR_model.train_model(dl, PhotZ_LR_config)\n",
    "    results = PhotZ_LR_model.evaluate_model(data, dl, PhotZ_LR_config)\n",
    "    PhotZ_LR_model.save_results(data, results, PhotZ_LR_config)"
   ]
  },
  {
   "cell_type": "code",
   "execution_count": null,
   "id": "09c67d23",
   "metadata": {},
   "outputs": [],
   "source": []
  }
 ],
 "metadata": {
  "kernelspec": {
   "display_name": "Python 3",
   "language": "python",
   "name": "python3"
  },
  "language_info": {
   "codemirror_mode": {
    "name": "ipython",
    "version": 3
   },
   "file_extension": ".py",
   "mimetype": "text/x-python",
   "name": "python",
   "nbconvert_exporter": "python",
   "pygments_lexer": "ipython3",
   "version": "3.13.1"
  }
 },
 "nbformat": 4,
 "nbformat_minor": 5
}
